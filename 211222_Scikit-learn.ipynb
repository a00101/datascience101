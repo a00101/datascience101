{
  "cells": [
    {
      "cell_type": "markdown",
      "metadata": {
        "id": "view-in-github",
        "colab_type": "text"
      },
      "source": [
        "<a href=\"https://colab.research.google.com/github/a00101/datascience101/blob/main/211222_Scikit-learn.ipynb\" target=\"_parent\"><img src=\"https://colab.research.google.com/assets/colab-badge.svg\" alt=\"Open In Colab\"/></a>"
      ]
    },
    {
      "cell_type": "code",
      "execution_count": 55,
      "metadata": {
        "id": "gJr_9dXGpJ05"
      },
      "outputs": [],
      "source": [
        "import tensorflow as tf\n",
        "import pandas as pd\n",
        "import numpy as np\n"
      ]
    },
    {
      "cell_type": "code",
      "source": [
        "Train_X = pd.read_csv('Train_X.txt',sep=\"\\t\")\n",
        "Train_Y = pd.read_csv('Train_Y.txt',sep=\"\\t\").values.flatten()\n",
        "\n",
        "Test_X = pd.read_csv('Test_X.txt',sep=\"\\t\")\n",
        "Test_Y = pd.read_csv('Test_Y.txt',sep=\"\\t\").values.flatten()\n",
        "\n",
        "Train_Y.shape"
      ],
      "metadata": {
        "colab": {
          "base_uri": "https://localhost:8080/"
        },
        "id": "Ry-MvG2VKfz0",
        "outputId": "554b4dec-d630-4eb1-ac2b-0fdc05d04ea2"
      },
      "execution_count": 56,
      "outputs": [
        {
          "output_type": "execute_result",
          "data": {
            "text/plain": [
              "(166,)"
            ]
          },
          "metadata": {},
          "execution_count": 56
        }
      ]
    },
    {
      "cell_type": "code",
      "source": [
        "clf = KNeighborsClassifier(n_neighbors=7)\n",
        "clf.fit(Train_X, Train_Y)"
      ],
      "metadata": {
        "colab": {
          "base_uri": "https://localhost:8080/"
        },
        "id": "QcOFzUQzKriC",
        "outputId": "f143a311-4e5d-427e-afc8-a52f9a139844"
      },
      "execution_count": 85,
      "outputs": [
        {
          "output_type": "execute_result",
          "data": {
            "text/plain": [
              "KNeighborsClassifier(n_neighbors=7)"
            ]
          },
          "metadata": {},
          "execution_count": 85
        }
      ]
    },
    {
      "cell_type": "code",
      "source": [
        "Results_Train_Y = clf.predict(Train_X)\n",
        "print('train accuracy :', accuracy_score(Train_Y, Results_Train_Y))\n",
        "\n",
        "\n",
        "Results_Test_Y = clf.predict(Test_X)\n",
        "print('test accuracy :', accuracy_score(Test_Y, Results_Test_Y))"
      ],
      "metadata": {
        "colab": {
          "base_uri": "https://localhost:8080/"
        },
        "id": "IjJO5l65NBSM",
        "outputId": "901717aa-9148-46ce-8b20-c51d9238117c"
      },
      "execution_count": 86,
      "outputs": [
        {
          "output_type": "stream",
          "name": "stdout",
          "text": [
            "train accuracy : 0.6566265060240963\n",
            "test accuracy : 0.5909090909090909\n"
          ]
        }
      ]
    },
    {
      "cell_type": "code",
      "source": [
        "from sklearn.feature_selection import SelectKBest, f_classif\n",
        "select = SelectKBest(f_classif, k=5)\n",
        "select.fit(Train_X, Train_Y)\n",
        "select.scores_"
      ],
      "metadata": {
        "colab": {
          "base_uri": "https://localhost:8080/"
        },
        "id": "wmzqanZJNxqj",
        "outputId": "96a99588-6c2e-48e8-b860-c7ca92e9384c"
      },
      "execution_count": 87,
      "outputs": [
        {
          "output_type": "execute_result",
          "data": {
            "text/plain": [
              "array([2.53645459e+00, 2.94239252e-01, 1.66570483e-01, 5.72569175e-03,\n",
              "       6.90920766e-02, 1.11081099e+00, 3.21001495e-04, 7.67176450e+00,\n",
              "       9.53630471e-01, 2.45771339e+00, 2.28433166e-01, 6.63918304e-03,\n",
              "       4.78149149e-02, 2.97250737e+00, 5.96109393e-01, 4.72532562e-02,\n",
              "       4.26168843e-01, 2.37261692e-01, 6.68741467e-01, 4.60638593e-01,\n",
              "       1.16868202e-03, 5.50100979e-01, 5.28622433e-01, 6.66667512e-01,\n",
              "       2.41724242e+00, 2.17879044e+00, 4.06866020e-03, 1.78045622e+00,\n",
              "       2.17271993e+00, 7.76400713e-01, 9.83596318e-01, 5.33045019e-01,\n",
              "       2.25995204e-02, 1.35265514e-01, 4.27065619e-01, 1.17124905e+00,\n",
              "       2.79190375e+00, 7.37718668e-02, 2.15616889e-02, 2.03834705e+00,\n",
              "       1.48112455e+00, 5.37277745e+00, 2.69480561e-03, 1.04574408e-02,\n",
              "       5.96719694e-01, 1.04552924e-02, 1.36079314e+00, 1.82422307e+00,\n",
              "       2.26260821e+00, 2.54653760e+00, 3.38461065e+00, 6.13465751e-02,\n",
              "       2.22118616e+00, 9.63754086e+00, 2.57532915e+00, 3.84032027e-04,\n",
              "       1.58606355e+00, 2.23269951e+00, 3.03913901e+00, 6.56124035e-02,\n",
              "       2.45932372e+00, 9.48572522e-01, 2.47259477e+00, 6.34089097e+00,\n",
              "       1.52020254e+00, 9.67737966e-01])"
            ]
          },
          "metadata": {},
          "execution_count": 87
        }
      ]
    },
    {
      "cell_type": "code",
      "source": [
        "from sklearn.feature_selection import SelectKBest, mutual_info_classif\n",
        "select = SelectKBest(mutual_info_classif, k=5)\n",
        "select.fit(Train_X, Train_Y)\n",
        "select.scores_"
      ],
      "metadata": {
        "colab": {
          "base_uri": "https://localhost:8080/"
        },
        "id": "Ogl5iUhJN1hb",
        "outputId": "06355c68-9401-4d77-b1ff-48760d8e102a"
      },
      "execution_count": 88,
      "outputs": [
        {
          "output_type": "execute_result",
          "data": {
            "text/plain": [
              "array([0.01638898, 0.02651903, 0.        , 0.08777137, 0.        ,\n",
              "       0.01381202, 0.        , 0.        , 0.00419762, 0.04996464,\n",
              "       0.        , 0.        , 0.        , 0.03765911, 0.        ,\n",
              "       0.02502192, 0.01450363, 0.06301611, 0.00143817, 0.        ,\n",
              "       0.04911278, 0.        , 0.00483228, 0.        , 0.02030203,\n",
              "       0.04909696, 0.07693935, 0.03132728, 0.        , 0.01032176,\n",
              "       0.        , 0.0008192 , 0.02104325, 0.        , 0.01064484,\n",
              "       0.        , 0.01999455, 0.01780876, 0.        , 0.        ,\n",
              "       0.        , 0.        , 0.00606792, 0.00859085, 0.04968304,\n",
              "       0.02787663, 0.        , 0.01858649, 0.03414857, 0.        ,\n",
              "       0.03160266, 0.        , 0.        , 0.        , 0.        ,\n",
              "       0.00704671, 0.05538883, 0.        , 0.01188957, 0.        ,\n",
              "       0.00147568, 0.0174334 , 0.01074351, 0.03053906, 0.        ,\n",
              "       0.04777427])"
            ]
          },
          "metadata": {},
          "execution_count": 88
        }
      ]
    },
    {
      "cell_type": "code",
      "source": [
        "from sklearn.feature_selection import SelectKBest, f_classif\n",
        "select = SelectKBest(f_classif, k=5)\n",
        "select.fit(Train_X, Train_Y)\n",
        "X_train_selected = select.transform(Train_X)\n",
        "X_test_selected = select.transform(Test_X)"
      ],
      "metadata": {
        "id": "X30If18lN5VT"
      },
      "execution_count": 89,
      "outputs": []
    },
    {
      "cell_type": "code",
      "source": [
        "clf = KNeighborsClassifier(n_neighbors=7)\n",
        "clf.fit(X_train_selected, Train_Y)\n",
        "\n",
        "y_train_hat = clf.predict(X_train_selected)\n",
        "print('train accuracy :', accuracy_score(Train_Y, y_train_hat))\n",
        "y_test_hat = clf.predict(X_test_selected)\n",
        "print('test accuracy :', accuracy_score(Test_Y, y_test_hat))"
      ],
      "metadata": {
        "colab": {
          "base_uri": "https://localhost:8080/"
        },
        "id": "6H-HQ7TzOBR7",
        "outputId": "97021ab4-6dd2-40d8-c342-ec9e82dde851"
      },
      "execution_count": 90,
      "outputs": [
        {
          "output_type": "stream",
          "name": "stdout",
          "text": [
            "train accuracy : 0.6927710843373494\n",
            "test accuracy : 0.5\n"
          ]
        }
      ]
    },
    {
      "cell_type": "code",
      "source": [
        "pat1 = np.array([[-0.8918,-0.4722,-1.6877,0.0135,-1.5487]])\n",
        "prediction = clf.predict(pat1)\n",
        "print(prediction*100)"
      ],
      "metadata": {
        "colab": {
          "base_uri": "https://localhost:8080/"
        },
        "id": "HRMM4SJjOztz",
        "outputId": "52ff3689-e8f6-492e-9662-a3c677f1abf9"
      },
      "execution_count": 69,
      "outputs": [
        {
          "output_type": "stream",
          "name": "stdout",
          "text": [
            "[100]\n"
          ]
        }
      ]
    },
    {
      "cell_type": "code",
      "source": [
        "all_names = Train_X.columns\n",
        "selected_mask = select.get_support()\n",
        "selected_names = all_names[selected_mask]\n",
        "unselected_names = all_names[~selected_mask]\n",
        "\n",
        "print('Selected names: ', selected_names)\n",
        "print('Unselected names: ', unselected_names)"
      ],
      "metadata": {
        "colab": {
          "base_uri": "https://localhost:8080/"
        },
        "id": "s8IPatHdQPK0",
        "outputId": "6a9d644e-334f-416a-e82b-f3c43b40fb45"
      },
      "execution_count": 80,
      "outputs": [
        {
          "output_type": "stream",
          "name": "stdout",
          "text": [
            "Selected names:  Index(['Gene8', 'Gene42', 'Gene51', 'Gene54', 'Gene64'], dtype='object')\n",
            "Unselected names:  Index(['Gene1', 'Gene2', 'Gene3', 'Gene4', 'Gene5', 'Gene6', 'Gene7', 'Gene9',\n",
            "       'Gene10', 'Gene11', 'Gene12', 'Gene13', 'Gene14', 'Gene15', 'Gene16',\n",
            "       'Gene17', 'Gene18', 'Gene19', 'Gene20', 'Gene21', 'Gene22', 'Gene23',\n",
            "       'Gene24', 'Gene25', 'Gene26', 'Gene27', 'Gene28', 'Gene29', 'Gene30',\n",
            "       'Gene31', 'Gene32', 'Gene33', 'Gene34', 'Gene35', 'Gene36', 'Gene37',\n",
            "       'Gene38', 'Gene39', 'Gene40', 'Gene41', 'Gene43', 'Gene44', 'Gene45',\n",
            "       'Gene46', 'Gene47', 'Gene48', 'Gene49', 'Gene50', 'Gene52', 'Gene53',\n",
            "       'Gene55', 'Gene56', 'Gene57', 'Gene58', 'Gene59', 'Gene60', 'Gene61',\n",
            "       'Gene62', 'Gene63', 'Gene65', 'Gene66'],\n",
            "      dtype='object')\n"
          ]
        }
      ]
    },
    {
      "cell_type": "code",
      "source": [
        "import matplotlib.pyplot as plt\n",
        "k_list = range(1,101)\n",
        "accuracies = []\n",
        "for k in k_list:\n",
        "  classifier = KNeighborsClassifier(n_neighbors = k)\n",
        "  classifier.fit(Train_X, Train_Y)\n",
        "  accuracies.append(classifier.score(Test_X, Test_Y))\n",
        "  print(k, classifier.score(Test_X, Test_Y))\n",
        "plt.plot(k_list, accuracies)\n",
        "plt.xlabel(\"k\")\n",
        "plt.ylabel(\"Validation Accuracy\")\n",
        "plt.title(\"Breast Cancer Classifier Accuracy\")\n",
        "plt.show()"
      ],
      "metadata": {
        "colab": {
          "base_uri": "https://localhost:8080/",
          "height": 1000
        },
        "id": "QioLs21HQYj8",
        "outputId": "59d9ac7c-48ef-41dd-ff9d-b474db1d7363"
      },
      "execution_count": 82,
      "outputs": [
        {
          "output_type": "stream",
          "name": "stdout",
          "text": [
            "1 0.5454545454545454\n",
            "2 0.5\n",
            "3 0.5\n",
            "4 0.4318181818181818\n",
            "5 0.4090909090909091\n",
            "6 0.45454545454545453\n",
            "7 0.5909090909090909\n",
            "8 0.5\n",
            "9 0.5681818181818182\n",
            "10 0.5454545454545454\n",
            "11 0.5227272727272727\n",
            "12 0.5681818181818182\n",
            "13 0.5454545454545454\n",
            "14 0.5454545454545454\n",
            "15 0.5227272727272727\n",
            "16 0.5454545454545454\n",
            "17 0.5681818181818182\n",
            "18 0.5454545454545454\n",
            "19 0.5454545454545454\n",
            "20 0.5454545454545454\n",
            "21 0.5909090909090909\n",
            "22 0.5681818181818182\n",
            "23 0.5681818181818182\n",
            "24 0.5909090909090909\n",
            "25 0.5909090909090909\n",
            "26 0.5909090909090909\n",
            "27 0.5681818181818182\n",
            "28 0.5909090909090909\n",
            "29 0.5454545454545454\n",
            "30 0.5909090909090909\n",
            "31 0.5681818181818182\n",
            "32 0.5909090909090909\n",
            "33 0.5681818181818182\n",
            "34 0.5681818181818182\n",
            "35 0.5227272727272727\n",
            "36 0.5454545454545454\n",
            "37 0.5227272727272727\n",
            "38 0.5227272727272727\n",
            "39 0.4772727272727273\n",
            "40 0.45454545454545453\n",
            "41 0.4772727272727273\n",
            "42 0.45454545454545453\n",
            "43 0.4772727272727273\n",
            "44 0.45454545454545453\n",
            "45 0.4772727272727273\n",
            "46 0.4772727272727273\n",
            "47 0.5\n",
            "48 0.5227272727272727\n",
            "49 0.5\n",
            "50 0.5\n",
            "51 0.5\n",
            "52 0.5\n",
            "53 0.5\n",
            "54 0.5\n",
            "55 0.5\n",
            "56 0.5\n",
            "57 0.5\n",
            "58 0.5\n",
            "59 0.5\n",
            "60 0.5\n",
            "61 0.5\n",
            "62 0.5\n",
            "63 0.5\n",
            "64 0.5\n",
            "65 0.5\n",
            "66 0.5\n",
            "67 0.5\n",
            "68 0.5\n",
            "69 0.5\n",
            "70 0.5\n",
            "71 0.5\n",
            "72 0.5\n",
            "73 0.5\n",
            "74 0.5\n",
            "75 0.5\n",
            "76 0.5\n",
            "77 0.5\n",
            "78 0.5\n",
            "79 0.5\n",
            "80 0.5\n",
            "81 0.5\n",
            "82 0.5\n",
            "83 0.5\n",
            "84 0.5\n",
            "85 0.5\n",
            "86 0.5\n",
            "87 0.5\n",
            "88 0.5\n",
            "89 0.5\n",
            "90 0.5\n",
            "91 0.5\n",
            "92 0.5\n",
            "93 0.5\n",
            "94 0.5\n",
            "95 0.5\n",
            "96 0.5\n",
            "97 0.5\n",
            "98 0.5\n",
            "99 0.5\n",
            "100 0.5\n"
          ]
        },
        {
          "output_type": "display_data",
          "data": {
            "image/png": "[encoded data removed]",
            "text/plain": [
              "<Figure size 432x288 with 1 Axes>"
            ]
          },
          "metadata": {
            "needs_background": "light"
          }
        }
      ]
    }
  ],
  "metadata": {
    "colab": {
      "collapsed_sections": [],
      "name": "Colaboratory에 오신 것을 환영합니다",
      "provenance": [],
      "include_colab_link": true
    },
    "kernelspec": {
      "display_name": "Python 3",
      "name": "python3"
    }
  },
  "nbformat": 4,
  "nbformat_minor": 0
}