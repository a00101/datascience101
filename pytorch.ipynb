{
  "cells": [
    {
      "cell_type": "markdown",
      "metadata": {
        "id": "view-in-github",
        "colab_type": "text"
      },
      "source": [
        "<a href=\"https://colab.research.google.com/github/a00101/datascience101/blob/main/pytorch.ipynb\" target=\"_parent\"><img src=\"https://colab.research.google.com/assets/colab-badge.svg\" alt=\"Open In Colab\"/></a>"
      ]
    },
    {
      "cell_type": "markdown",
      "source": [
        "지도학습에는 regression와 classification이 있음. \n",
        "\n",
        "이번에는 regression 중 **linear regression**을 다룸\n",
        "\n",
        "**2. 가설 (hypothesis) 수립**\n",
        "\n",
        "y = Wx+b 형식이라고 가정\n",
        "\n",
        "**3. Cost function**\n",
        "\n",
        "오차를 modeling 하는 수식\n",
        "\n",
        " = Cost function (비용 함수) = loss function (손실 함수) = error function (오차 함수) = objective function (목적 함수)\n",
        "\n",
        "\n",
        "**3. Optimizer - Gradient descent**\n",
        "\n",
        "Optimizer 알고리즘 (=최적화 알고리즘)\n",
        "\n",
        "기본적인 optimizer 알고리즘 중 하나인 gradient descent.\n",
        "\n"
      ],
      "metadata": {
        "id": "0vI4KhleZnwW"
      }
    },
    {
      "cell_type": "code",
      "source": [
        "# Step1 - 기본 세팅\n",
        "import torch\n",
        "import torch.nn as nn\n",
        "import torch.nn.functional as F\n",
        "import torch.optim as optim\n"
      ],
      "metadata": {
        "id": "JvBrEY8Gaa1I"
      },
      "execution_count": 6,
      "outputs": []
    },
    {
      "cell_type": "code",
      "source": [
        "# Step2 - 변수 선언\n",
        "x_train = torch.FloatTensor([[1], [2], [3]])\n",
        "y_train = torch.FloatTensor([[2], [4], [6]])\n"
      ],
      "metadata": {
        "id": "4pjyyIuxarBG"
      },
      "execution_count": 7,
      "outputs": []
    },
    {
      "cell_type": "code",
      "source": [
        "# Step3 - 가중치와 편향 초기화\n",
        "\n",
        "W = torch.zeros(1, requires_grad=True)  # 가중치 W를 0으로 초기화하고 학습을 통해 값이 변경되는 변수(requires_grad)임을 명시함\n",
        "print(W) # 가중치 출력\n",
        "b = torch.zeros(1, requires_grad=True) # 편향 b를 0으로 초기화\n",
        "print(b) # 편향 출력"
      ],
      "metadata": {
        "colab": {
          "base_uri": "https://localhost:8080/"
        },
        "id": "Zrlo829favZe",
        "outputId": "af3a74fa-4642-4c52-a0a9-4c6ad1b83ba4"
      },
      "execution_count": 8,
      "outputs": [
        {
          "output_type": "stream",
          "name": "stdout",
          "text": [
            "tensor([0.], requires_grad=True)\n",
            "tensor([0.], requires_grad=True)\n"
          ]
        }
      ]
    },
    {
      "cell_type": "code",
      "source": [
        "# Step 4 - 가설 세우기\n"
      ],
      "metadata": {
        "id": "VoxnaPv8bTMR"
      },
      "execution_count": null,
      "outputs": []
    },
    {
      "cell_type": "code",
      "source": [
        ""
      ],
      "metadata": {
        "id": "R-DTw69obe_p"
      },
      "execution_count": null,
      "outputs": []
    }
  ],
  "metadata": {
    "colab": {
      "collapsed_sections": [],
      "name": "Colaboratory에 오신 것을 환영합니다",
      "toc_visible": true,
      "provenance": [],
      "include_colab_link": true
    },
    "kernelspec": {
      "display_name": "Python 3",
      "name": "python3"
    }
  },
  "nbformat": 4,
  "nbformat_minor": 0
}