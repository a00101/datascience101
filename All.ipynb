{
  "cells": [
    {
      "cell_type": "markdown",
      "metadata": {
        "id": "view-in-github",
        "colab_type": "text"
      },
      "source": [
        "<a href=\"https://colab.research.google.com/github/a00101/datascience101/blob/main/All\" target=\"_parent\"><img src=\"https://colab.research.google.com/assets/colab-badge.svg\" alt=\"Open In Colab\"/></a>"
      ]
    },
    {
      "cell_type": "code",
      "execution_count": 55,
      "metadata": {
        "id": "gJr_9dXGpJ05"
      },
      "outputs": [],
      "source": [
        "import tensorflow as tf\n",
        "import pandas as pd\n",
        "import numpy as np\n"
      ]
    },
    {
      "cell_type": "code",
      "source": [
        "Train_X = pd.read_csv('Train_X.txt',sep=\"\\t\")\n",
        "Train_Y = pd.read_csv('Train_Y.txt',sep=\"\\t\").values.flatten()\n",
        "\n",
        "Test_X = pd.read_csv('Test_X.txt',sep=\"\\t\")\n",
        "Test_Y = pd.read_csv('Test_Y.txt',sep=\"\\t\").values.flatten()\n",
        "\n",
        "Train_Y.shape"
      ],
      "metadata": {
        "colab": {
          "base_uri": "https://localhost:8080/"
        },
        "id": "Ry-MvG2VKfz0",
        "outputId": "554b4dec-d630-4eb1-ac2b-0fdc05d04ea2"
      },
      "execution_count": 56,
      "outputs": [
        {
          "output_type": "execute_result",
          "data": {
            "text/plain": [
              "(166,)"
            ]
          },
          "metadata": {},
          "execution_count": 56
        }
      ]
    },
    {
      "cell_type": "code",
      "source": [
        "clf = KNeighborsClassifier(n_neighbors=3)\n",
        "clf.fit(Train_X, Train_Y)"
      ],
      "metadata": {
        "colab": {
          "base_uri": "https://localhost:8080/"
        },
        "id": "QcOFzUQzKriC",
        "outputId": "9a58ddad-8dfa-469a-e98b-545a4b24591a"
      },
      "execution_count": 57,
      "outputs": [
        {
          "output_type": "execute_result",
          "data": {
            "text/plain": [
              "KNeighborsClassifier(n_neighbors=3)"
            ]
          },
          "metadata": {},
          "execution_count": 57
        }
      ]
    },
    {
      "cell_type": "code",
      "source": [
        "Results_Train_Y = clf.predict(Train_X)\n",
        "print('train accuracy :', accuracy_score(Train_Y, Results_Train_Y))\n",
        "\n",
        "\n",
        "Results_Test_Y = clf.predict(Test_X)\n",
        "print('test accuracy :', accuracy_score(Test_Y, Results_Test_Y))"
      ],
      "metadata": {
        "colab": {
          "base_uri": "https://localhost:8080/"
        },
        "id": "IjJO5l65NBSM",
        "outputId": "f93a8c41-f922-493e-8d72-cff6a695f170"
      },
      "execution_count": 58,
      "outputs": [
        {
          "output_type": "stream",
          "name": "stdout",
          "text": [
            "train accuracy : 0.7108433734939759\n",
            "test accuracy : 0.5\n"
          ]
        }
      ]
    },
    {
      "cell_type": "code",
      "source": [
        "from sklearn.feature_selection import SelectKBest, f_classif\n",
        "select = SelectKBest(f_classif, k=30)\n",
        "select.fit(Train_X, Train_Y)\n",
        "select.scores_"
      ],
      "metadata": {
        "colab": {
          "base_uri": "https://localhost:8080/"
        },
        "id": "wmzqanZJNxqj",
        "outputId": "6cd8772b-a47a-482b-d4c9-0f3ab9dae905"
      },
      "execution_count": 59,
      "outputs": [
        {
          "output_type": "execute_result",
          "data": {
            "text/plain": [
              "array([2.53645459e+00, 2.94239252e-01, 1.66570483e-01, 5.72569175e-03,\n",
              "       6.90920766e-02, 1.11081099e+00, 3.21001495e-04, 7.67176450e+00,\n",
              "       9.53630471e-01, 2.45771339e+00, 2.28433166e-01, 6.63918304e-03,\n",
              "       4.78149149e-02, 2.97250737e+00, 5.96109393e-01, 4.72532562e-02,\n",
              "       4.26168843e-01, 2.37261692e-01, 6.68741467e-01, 4.60638593e-01,\n",
              "       1.16868202e-03, 5.50100979e-01, 5.28622433e-01, 6.66667512e-01,\n",
              "       2.41724242e+00, 2.17879044e+00, 4.06866020e-03, 1.78045622e+00,\n",
              "       2.17271993e+00, 7.76400713e-01, 9.83596318e-01, 5.33045019e-01,\n",
              "       2.25995204e-02, 1.35265514e-01, 4.27065619e-01, 1.17124905e+00,\n",
              "       2.79190375e+00, 7.37718668e-02, 2.15616889e-02, 2.03834705e+00,\n",
              "       1.48112455e+00, 5.37277745e+00, 2.69480561e-03, 1.04574408e-02,\n",
              "       5.96719694e-01, 1.04552924e-02, 1.36079314e+00, 1.82422307e+00,\n",
              "       2.26260821e+00, 2.54653760e+00, 3.38461065e+00, 6.13465751e-02,\n",
              "       2.22118616e+00, 9.63754086e+00, 2.57532915e+00, 3.84032027e-04,\n",
              "       1.58606355e+00, 2.23269951e+00, 3.03913901e+00, 6.56124035e-02,\n",
              "       2.45932372e+00, 9.48572522e-01, 2.47259477e+00, 6.34089097e+00,\n",
              "       1.52020254e+00, 9.67737966e-01])"
            ]
          },
          "metadata": {},
          "execution_count": 59
        }
      ]
    },
    {
      "cell_type": "code",
      "source": [
        "from sklearn.feature_selection import SelectKBest, mutual_info_classif\n",
        "select = SelectKBest(mutual_info_classif, k=30)\n",
        "select.fit(Train_X, Train_Y)\n",
        "select.scores_"
      ],
      "metadata": {
        "colab": {
          "base_uri": "https://localhost:8080/"
        },
        "id": "Ogl5iUhJN1hb",
        "outputId": "2ba663dc-0360-46ed-c1be-48c2b385297b"
      },
      "execution_count": 60,
      "outputs": [
        {
          "output_type": "execute_result",
          "data": {
            "text/plain": [
              "array([0.01638898, 0.02651903, 0.        , 0.08777137, 0.        ,\n",
              "       0.01381202, 0.        , 0.        , 0.00419762, 0.04996464,\n",
              "       0.        , 0.        , 0.        , 0.03765911, 0.        ,\n",
              "       0.02535659, 0.01438194, 0.06368545, 0.00143817, 0.        ,\n",
              "       0.04911278, 0.        , 0.00483228, 0.        , 0.01944144,\n",
              "       0.04834395, 0.07855294, 0.0332967 , 0.        , 0.01032176,\n",
              "       0.        , 0.0008192 , 0.02104325, 0.        , 0.00964082,\n",
              "       0.        , 0.01999455, 0.01780876, 0.        , 0.        ,\n",
              "       0.        , 0.        , 0.00757394, 0.00859085, 0.04968304,\n",
              "       0.02888065, 0.        , 0.0215316 , 0.03414857, 0.        ,\n",
              "       0.02758659, 0.        , 0.        , 0.        , 0.        ,\n",
              "       0.00704671, 0.05538883, 0.        , 0.01339559, 0.        ,\n",
              "       0.00147568, 0.0174334 , 0.01074351, 0.03053906, 0.        ,\n",
              "       0.04717186])"
            ]
          },
          "metadata": {},
          "execution_count": 60
        }
      ]
    },
    {
      "cell_type": "code",
      "source": [
        "from sklearn.feature_selection import SelectKBest, f_classif\n",
        "select = SelectKBest(f_classif, k=5)\n",
        "select.fit(Train_X, Train_Y)\n",
        "X_train_selected = select.transform(Train_X)\n",
        "X_test_selected = select.transform(Test_X)"
      ],
      "metadata": {
        "id": "X30If18lN5VT"
      },
      "execution_count": 70,
      "outputs": []
    },
    {
      "cell_type": "code",
      "source": [
        "clf = KNeighborsClassifier(n_neighbors=3)\n",
        "clf.fit(X_train_selected, Train_Y)\n",
        "\n",
        "y_train_hat = clf.predict(X_train_selected)\n",
        "print('train accuracy :', accuracy_score(Train_Y, y_train_hat))\n",
        "y_test_hat = clf.predict(X_test_selected)\n",
        "print('test accuracy :', accuracy_score(Test_Y, y_test_hat))"
      ],
      "metadata": {
        "colab": {
          "base_uri": "https://localhost:8080/"
        },
        "id": "6H-HQ7TzOBR7",
        "outputId": "979840e5-12bf-4fc3-a61e-4ecfdd227310"
      },
      "execution_count": 66,
      "outputs": [
        {
          "output_type": "stream",
          "name": "stdout",
          "text": [
            "train accuracy : 0.7469879518072289\n",
            "test accuracy : 0.5681818181818182\n"
          ]
        }
      ]
    },
    {
      "cell_type": "code",
      "source": [
        "X_train_selected"
      ],
      "metadata": {
        "id": "lzTuHpkKOIET"
      },
      "execution_count": null,
      "outputs": []
    },
    {
      "cell_type": "code",
      "source": [
        "pat1 = np.array([[-0.8918,-0.4722,-1.6877,0.0135,-1.5487]])\n",
        "prediction = clf.predict(pat1)\n",
        "print(prediction*100)"
      ],
      "metadata": {
        "colab": {
          "base_uri": "https://localhost:8080/"
        },
        "id": "HRMM4SJjOztz",
        "outputId": "52ff3689-e8f6-492e-9662-a3c677f1abf9"
      },
      "execution_count": 69,
      "outputs": [
        {
          "output_type": "stream",
          "name": "stdout",
          "text": [
            "[100]\n"
          ]
        }
      ]
    },
    {
      "cell_type": "code",
      "source": [
        "all_names = Train_X.columns\n",
        "selected_mask = select.get_support()\n",
        "selected_names = all_names[selected_mask]\n",
        "unselected_names = all_names[~selected_mask]\n",
        "\n",
        "print('Selected names: ', selected_names)\n",
        "print('Unselected names: ', unselected_names)"
      ],
      "metadata": {
        "colab": {
          "base_uri": "https://localhost:8080/"
        },
        "id": "s8IPatHdQPK0",
        "outputId": "6a9d644e-334f-416a-e82b-f3c43b40fb45"
      },
      "execution_count": 80,
      "outputs": [
        {
          "output_type": "stream",
          "name": "stdout",
          "text": [
            "Selected names:  Index(['Gene8', 'Gene42', 'Gene51', 'Gene54', 'Gene64'], dtype='object')\n",
            "Unselected names:  Index(['Gene1', 'Gene2', 'Gene3', 'Gene4', 'Gene5', 'Gene6', 'Gene7', 'Gene9',\n",
            "       'Gene10', 'Gene11', 'Gene12', 'Gene13', 'Gene14', 'Gene15', 'Gene16',\n",
            "       'Gene17', 'Gene18', 'Gene19', 'Gene20', 'Gene21', 'Gene22', 'Gene23',\n",
            "       'Gene24', 'Gene25', 'Gene26', 'Gene27', 'Gene28', 'Gene29', 'Gene30',\n",
            "       'Gene31', 'Gene32', 'Gene33', 'Gene34', 'Gene35', 'Gene36', 'Gene37',\n",
            "       'Gene38', 'Gene39', 'Gene40', 'Gene41', 'Gene43', 'Gene44', 'Gene45',\n",
            "       'Gene46', 'Gene47', 'Gene48', 'Gene49', 'Gene50', 'Gene52', 'Gene53',\n",
            "       'Gene55', 'Gene56', 'Gene57', 'Gene58', 'Gene59', 'Gene60', 'Gene61',\n",
            "       'Gene62', 'Gene63', 'Gene65', 'Gene66'],\n",
            "      dtype='object')\n"
          ]
        }
      ]
    },
    {
      "cell_type": "code",
      "source": [
        ""
      ],
      "metadata": {
        "id": "QioLs21HQYj8"
      },
      "execution_count": null,
      "outputs": []
    }
  ],
  "metadata": {
    "colab": {
      "collapsed_sections": [],
      "name": "Colaboratory에 오신 것을 환영합니다",
      "provenance": [],
      "include_colab_link": true
    },
    "kernelspec": {
      "display_name": "Python 3",
      "name": "python3"
    }
  },
  "nbformat": 4,
  "nbformat_minor": 0
}
